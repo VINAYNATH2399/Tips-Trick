{
 "cells": [
  {
   "cell_type": "markdown",
   "id": "1c365f89",
   "metadata": {},
   "source": [
    "# Tip 1: Add seperator(,) in numbers"
   ]
  },
  {
   "cell_type": "code",
   "execution_count": 5,
   "id": "fa565f96",
   "metadata": {},
   "outputs": [
    {
     "name": "stdout",
     "output_type": "stream",
     "text": [
      "12,345,678,901\n"
     ]
    }
   ],
   "source": [
    "big_num = 12345678901\n",
    "print(f\"{big_num:,}\")"
   ]
  },
  {
   "cell_type": "code",
   "execution_count": 3,
   "id": "0addb76c",
   "metadata": {},
   "outputs": [
    {
     "name": "stdout",
     "output_type": "stream",
     "text": [
      "1,323,456,789\n"
     ]
    }
   ],
   "source": [
    "big_num = 1323456789\n",
    "print(f\"{big_num:,}\")"
   ]
  },
  {
   "cell_type": "code",
   "execution_count": 6,
   "id": "81c35588",
   "metadata": {},
   "outputs": [
    {
     "name": "stdout",
     "output_type": "stream",
     "text": [
      "999,999,999,999\n"
     ]
    }
   ],
   "source": [
    "big_num = 999999999999\n",
    "print(f\"{big_num:,}\")"
   ]
  },
  {
   "cell_type": "markdown",
   "id": "162a1614",
   "metadata": {},
   "source": [
    "# Tip 2: if-else condition in a f-string"
   ]
  },
  {
   "cell_type": "code",
   "execution_count": 7,
   "id": "85d6efe8",
   "metadata": {},
   "outputs": [
    {
     "name": "stdout",
     "output_type": "stream",
     "text": [
      "this is a\n"
     ]
    }
   ],
   "source": [
    "print(f\"{'this is a' if 10>5 else b}\")"
   ]
  },
  {
   "cell_type": "code",
   "execution_count": 8,
   "id": "2511fe81",
   "metadata": {},
   "outputs": [
    {
     "name": "stdout",
     "output_type": "stream",
     "text": [
      "this is b\n"
     ]
    }
   ],
   "source": [
    "print(f\"{'this is b' if 10>5 else a}\")"
   ]
  },
  {
   "cell_type": "markdown",
   "id": "ba29bbe5",
   "metadata": {},
   "source": [
    "# Tip 3: Square & Cube"
   ]
  },
  {
   "cell_type": "code",
   "execution_count": 9,
   "id": "e3ae984e",
   "metadata": {},
   "outputs": [
    {
     "name": "stdout",
     "output_type": "stream",
     "text": [
      "[1, 9, 25, 49, 81]\n"
     ]
    }
   ],
   "source": [
    "ODD_SQUARE = []\n",
    "for i in range(1,11):\n",
    "    if i % 2!=0:                                                             \n",
    "        ODD_SQUARE.append(i**2)\n",
    "print(ODD_SQUARE)"
   ]
  },
  {
   "cell_type": "code",
   "execution_count": 14,
   "id": "772f9cdf",
   "metadata": {},
   "outputs": [
    {
     "name": "stdout",
     "output_type": "stream",
     "text": [
      "[1, 9, 25, 49, 81]\n"
     ]
    }
   ],
   "source": [
    "ODD_SQUARE = [i**2 for i in range(1,11) if i%2!=0]                            \n",
    "print(ODD_SQUARE)"
   ]
  },
  {
   "cell_type": "code",
   "execution_count": 11,
   "id": "30300ed1",
   "metadata": {},
   "outputs": [
    {
     "name": "stdout",
     "output_type": "stream",
     "text": [
      "[4, 16, 36, 64, 100]\n"
     ]
    }
   ],
   "source": [
    "EVEN_SQUARE = [i**2 for i in range(1,11) if i%2==0]\n",
    "print(EVEN_SQUARE)"
   ]
  },
  {
   "cell_type": "code",
   "execution_count": 12,
   "id": "203ed553",
   "metadata": {},
   "outputs": [
    {
     "name": "stdout",
     "output_type": "stream",
     "text": [
      "[1, 27, 125, 343, 729]\n"
     ]
    }
   ],
   "source": [
    "ODD_CUBE = [i**3for i in range(1,11) if i%2!=0]                            \n",
    "print(ODD_CUBE)"
   ]
  },
  {
   "cell_type": "code",
   "execution_count": 13,
   "id": "e6a107c4",
   "metadata": {},
   "outputs": [
    {
     "name": "stdout",
     "output_type": "stream",
     "text": [
      "[8, 64, 216, 512, 1000]\n"
     ]
    }
   ],
   "source": [
    "ODD_CUBE = [i**3 for i in range(1,11) if i%2==0]                            \n",
    "print(ODD_CUBE)"
   ]
  },
  {
   "cell_type": "markdown",
   "id": "62aeb4cd",
   "metadata": {},
   "source": [
    "# Walrus Operator(:=)"
   ]
  },
  {
   "cell_type": "code",
   "execution_count": null,
   "id": "a476ef79",
   "metadata": {},
   "outputs": [],
   "source": [
    "'''Walrus Operator(:=)\n",
    "Walrus-operator is another name for assignment expressions\n",
    "According to the official documentation,It is a way to assign to variable within an expression using the notation.'''"
   ]
  },
  {
   "cell_type": "code",
   "execution_count": 15,
   "id": "0ba69656",
   "metadata": {},
   "outputs": [
    {
     "name": "stdout",
     "output_type": "stream",
     "text": [
      "max number is: 4\n"
     ]
    }
   ],
   "source": [
    "a = [1,2,3,4]\n",
    "if (n := len(a)) >3:\n",
    "    print(f\"max number is: {n}\")"
   ]
  },
  {
   "cell_type": "markdown",
   "id": "8b1b0159",
   "metadata": {},
   "source": [
    "# Reversing a string in python"
   ]
  },
  {
   "cell_type": "code",
   "execution_count": 16,
   "id": "eaf84ab6",
   "metadata": {},
   "outputs": [
    {
     "name": "stdout",
     "output_type": "stream",
     "text": [
      "Reverse is yp.nohtyP\n"
     ]
    }
   ],
   "source": [
    "a = \"Python.py\"\n",
    "print(\"Reverse is\", a[::-1])"
   ]
  },
  {
   "cell_type": "markdown",
   "id": "4b2baaf2",
   "metadata": {},
   "source": [
    "# Store all three values of the list in 3 new variable"
   ]
  },
  {
   "cell_type": "code",
   "execution_count": 18,
   "id": "02dd7356",
   "metadata": {},
   "outputs": [
    {
     "name": "stdout",
     "output_type": "stream",
     "text": [
      "x =  1\n",
      "y =  2\n",
      "z =  3\n"
     ]
    }
   ],
   "source": [
    "a = [1,2,3]\n",
    "x,y,z = a\n",
    "print(\"x = \",x)\n",
    "print(\"y = \",y)\n",
    "print(\"z = \",z)"
   ]
  },
  {
   "cell_type": "markdown",
   "id": "6e974c09",
   "metadata": {},
   "source": [
    "# Using Join"
   ]
  },
  {
   "cell_type": "code",
   "execution_count": 22,
   "id": "4a27fa0e",
   "metadata": {},
   "outputs": [
    {
     "name": "stdout",
     "output_type": "stream",
     "text": [
      "Folloow@_python.py\n"
     ]
    }
   ],
   "source": [
    "a = [\"Folloow\",\"@_\",\"python\",\".py\"]\n",
    "print(\"\".join(a))"
   ]
  },
  {
   "cell_type": "code",
   "execution_count": 26,
   "id": "5b19d69c",
   "metadata": {},
   "outputs": [
    {
     "name": "stdout",
     "output_type": "stream",
     "text": [
      "python\n"
     ]
    }
   ],
   "source": [
    "con_string = [\"p\",\"y\",\"t\",\"h\",\"o\",\"n\"]\n",
    "print(\"\".join(con_string))"
   ]
  },
  {
   "cell_type": "markdown",
   "id": "bda6fff0",
   "metadata": {},
   "source": [
    "# "
   ]
  },
  {
   "cell_type": "code",
   "execution_count": 23,
   "id": "46c20f02",
   "metadata": {},
   "outputs": [
    {
     "name": "stdout",
     "output_type": "stream",
     "text": [
      "Python.pyPython.pyPython.py\n"
     ]
    }
   ],
   "source": [
    "A = \"Python.py\"\n",
    "print(A*3)"
   ]
  },
  {
   "cell_type": "markdown",
   "id": "d371a34e",
   "metadata": {},
   "source": [
    "# Swaping Numbers"
   ]
  },
  {
   "cell_type": "code",
   "execution_count": 25,
   "id": "23067762",
   "metadata": {},
   "outputs": [
    {
     "name": "stdout",
     "output_type": "stream",
     "text": [
      "The value of a after swapping is 4\n",
      "The value of b after swapping is 3\n"
     ]
    }
   ],
   "source": [
    "a = 3\n",
    "b = 4\n",
    "a,b = b,a\n",
    "print(\"The value of a after swapping is\",a)\n",
    "print(\"The value of b after swapping is\",b)"
   ]
  },
  {
   "cell_type": "markdown",
   "id": "807fdfcd",
   "metadata": {},
   "source": [
    "# USING ZIP"
   ]
  },
  {
   "cell_type": "code",
   "execution_count": 27,
   "id": "58e8616a",
   "metadata": {},
   "outputs": [
    {
     "name": "stdout",
     "output_type": "stream",
     "text": [
      "Python : guido van rossum\n",
      "Java : james gosling\n",
      "C++ : denis ricthie\n"
     ]
    }
   ],
   "source": [
    "Language = [\"Python\",\"Java\",\"C++\"]\n",
    "Creaters = [\"guido van rossum\",\"james gosling\",\"denis ricthie\"]\n",
    "for Language, Creaters in zip(Language,Creaters):\n",
    "    print(Language,\":\",Creaters)"
   ]
  },
  {
   "cell_type": "markdown",
   "id": "816da120",
   "metadata": {},
   "source": [
    "# THE _ OPERATOR"
   ]
  },
  {
   "cell_type": "code",
   "execution_count": 28,
   "id": "92368e61",
   "metadata": {},
   "outputs": [
    {
     "data": {
      "text/plain": [
       "7"
      ]
     },
     "execution_count": 28,
     "metadata": {},
     "output_type": "execute_result"
    }
   ],
   "source": [
    ">>> 2 + 5"
   ]
  },
  {
   "cell_type": "code",
   "execution_count": 29,
   "id": "aa437d37",
   "metadata": {},
   "outputs": [
    {
     "data": {
      "text/plain": [
       "7"
      ]
     },
     "execution_count": 29,
     "metadata": {},
     "output_type": "execute_result"
    }
   ],
   "source": [
    ">>> _"
   ]
  },
  {
   "cell_type": "markdown",
   "id": "461b5545",
   "metadata": {},
   "source": [
    "# Memory Usage of An Object"
   ]
  },
  {
   "cell_type": "code",
   "execution_count": 1,
   "id": "71d6dd0e",
   "metadata": {},
   "outputs": [
    {
     "name": "stdout",
     "output_type": "stream",
     "text": [
      "28\n"
     ]
    }
   ],
   "source": [
    "import sys\n",
    "x = 2\n",
    "print(sys.getsizeof(x))"
   ]
  },
  {
   "cell_type": "markdown",
   "id": "89924d53",
   "metadata": {},
   "source": [
    "# Chaining of Comparison Operators"
   ]
  },
  {
   "cell_type": "code",
   "execution_count": 2,
   "id": "fed060af",
   "metadata": {},
   "outputs": [
    {
     "name": "stdout",
     "output_type": "stream",
     "text": [
      "True\n",
      "False\n"
     ]
    }
   ],
   "source": [
    "n = 10\n",
    "result = 1<n<20\n",
    "print(result)\n",
    "result = 1>n<=9\n",
    "print(result)"
   ]
  },
  {
   "cell_type": "markdown",
   "id": "c65164bb",
   "metadata": {},
   "source": [
    "# Find The Most Frequent Value In A List"
   ]
  },
  {
   "cell_type": "code",
   "execution_count": 3,
   "id": "88bced34",
   "metadata": {
    "scrolled": true
   },
   "outputs": [
    {
     "name": "stdout",
     "output_type": "stream",
     "text": [
      "1\n"
     ]
    }
   ],
   "source": [
    "test = [5,5,5,6,6,6,4,4,4,1,1,1,1,9,9,8,7,5,1,2,6]\n",
    "print(max(set(test),key=test.count))"
   ]
  }
 ],
 "metadata": {
  "kernelspec": {
   "display_name": "Python 3 (ipykernel)",
   "language": "python",
   "name": "python3"
  },
  "language_info": {
   "codemirror_mode": {
    "name": "ipython",
    "version": 3
   },
   "file_extension": ".py",
   "mimetype": "text/x-python",
   "name": "python",
   "nbconvert_exporter": "python",
   "pygments_lexer": "ipython3",
   "version": "3.10.3"
  }
 },
 "nbformat": 4,
 "nbformat_minor": 5
}
